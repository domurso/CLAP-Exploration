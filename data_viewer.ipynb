{
 "cells": [
  {
   "cell_type": "markdown",
   "metadata": {},
   "source": [
    "Creating this to view the data easier and maintain the different data directories"
   ]
  },
  {
   "cell_type": "code",
   "execution_count": 7,
   "metadata": {},
   "outputs": [],
   "source": [
    "from datasets import load_from_disk\n",
    "import zipfile\n",
    "import pandas as pd"
   ]
  },
  {
   "cell_type": "code",
   "execution_count": 8,
   "metadata": {},
   "outputs": [
    {
     "name": "stdout",
     "output_type": "stream",
     "text": [
      "genres.csv (first 20 rows)     genre_id genre_color        genre_handle  genre_parent_id  \\\n",
      "0          1     #006666         Avant-Garde             38.0   \n",
      "1          2     #CC3300       International              NaN   \n",
      "2          3     #000099               Blues              NaN   \n",
      "3          4     #990099                Jazz              NaN   \n",
      "4          5     #8A8A65           Classical              NaN   \n",
      "5          6     #4D0000             Novelty             38.0   \n",
      "6          7     #009999              Comedy             20.0   \n",
      "7          8     #665666  Old-Time__Historic              NaN   \n",
      "8          9     #663366             Country              NaN   \n",
      "9         10     #009900                 Pop              NaN   \n",
      "10        11     #E40089               Disco             14.0   \n",
      "11        12     #840000                Rock              NaN   \n",
      "12        13     #5B747C      Easy_Listening            126.0   \n",
      "13        14     #330033             Soul-RB              NaN   \n",
      "14        15     #FF6600          Electronic              NaN   \n",
      "15        16     #003366       Sound_Effects              6.0   \n",
      "16        17     #5E6D3F                Folk              NaN   \n",
      "17        18     #669933          Soundtrack           1235.0   \n",
      "18        19     #5E6D3F                Funk             14.0   \n",
      "19        20     #006699              Spoken              NaN   \n",
      "\n",
      "            genre_title  \n",
      "0           Avant-Garde  \n",
      "1         International  \n",
      "2                 Blues  \n",
      "3                  Jazz  \n",
      "4             Classical  \n",
      "5               Novelty  \n",
      "6                Comedy  \n",
      "7   Old-Time / Historic  \n",
      "8               Country  \n",
      "9                   Pop  \n",
      "10                Disco  \n",
      "11                 Rock  \n",
      "12       Easy Listening  \n",
      "13             Soul-RnB  \n",
      "14           Electronic  \n",
      "15        Sound Effects  \n",
      "16                 Folk  \n",
      "17           Soundtrack  \n",
      "18                 Funk  \n",
      "19               Spoken  \n"
     ]
    }
   ],
   "source": [
    "with zipfile.ZipFile(\"fma_metadata.zip\") as z:\n",
    "    genre_path = next(n for n in z.namelist() if n.endswith(\"genres.csv\"))\n",
    "    df = pd.read_csv(z.open(genre_path))\n",
    "\n",
    "print(\"genres.csv\\n\", df)\n"
   ]
  },
  {
   "cell_type": "code",
   "execution_count": 3,
   "metadata": {},
   "outputs": [
    {
     "name": "stdout",
     "output_type": "stream",
     "text": [
      "['audio', 'title', 'url', 'artist', 'genres', 'tags', 'album_title', 'input_values', 'text']\n"
     ]
    }
   ],
   "source": [
    "ds = load_from_disk(\"data/fma_clap_with_local_genre\")\n",
    "print(ds.column_names)"
   ]
  },
  {
   "cell_type": "code",
   "execution_count": 6,
   "metadata": {},
   "outputs": [
    {
     "name": "stdout",
     "output_type": "stream",
     "text": [
      " 0: Title: Food | Genre: [70] | Artist: AWOL | Text: Food — Industrial\n",
      " 1: Title: This World | Genre: [70] | Artist: AWOL | Text: This World — Industrial\n",
      " 2: Title: Freeway | Genre: [116] | Artist: Kurt Vile | Text: Freeway\n",
      " 3: Title: Queen Of The Wires | Genre: [58] | Artist: Alec K. Redfearn & the Eyesores | Text: Queen Of The Wires — Psych-Rock\n",
      " 4: Title: Ohio | Genre: [58] | Artist: Alec K. Redfearn & the Eyesores | Text: Ohio — Psych-Rock\n",
      " 5: Title: Blackout 2 | Genre: [10] | Artist: Contradiction | Text: Blackout 2 — Pop\n",
      " 6: Title: Jules Lost His Jewels | Genre: [91] | Artist: Ariel Pink's Haunted Graffiti | Text: Jules Lost His Jewels\n",
      " 7: Title: Castle Of Stars | Genre: [58] | Artist: Ed Askew | Text: Castle Of Stars — Psych-Rock\n",
      " 8: Title: Here With You | Genre: [58] | Artist: Ed Askew | Text: Here With You — Psych-Rock\n",
      " 9: Title: All I want to Do | Genre: [58] | Artist: Ed Askew | Text: All I want to Do — Psych-Rock\n",
      "10: Title: Piano 2 | Genre: [58] | Artist: Ed Askew | Text: Piano 2 — Psych-Rock\n",
      "11: Title: Baby Come Home | Genre: [58] | Artist: Ed Askew | Text: Baby Come Home — Psych-Rock\n",
      "12: Title: Song For R | Genre: [58] | Artist: Ed Askew | Text: Song For R — Psych-Rock\n",
      "13: Title: My Dream | Genre: [58] | Artist: Ed Askew | Text: My Dream — Psych-Rock\n",
      "14: Title: Piano 3 | Genre: [58] | Artist: Ed Askew | Text: Piano 3 — Psych-Rock\n",
      "15: Title: In the French Court | Genre: [58] | Artist: Ed Askew | Text: In the French Court — Psych-Rock\n",
      "16: Title: In America | Genre: [58] | Artist: Ed Askew | Text: In America — Psych-Rock\n",
      "17: Title: When I Arive | Genre: [58] | Artist: Ed Askew | Text: When I Arive — Psych-Rock\n",
      "18: Title: Boute | Genre: [116] | Artist: Au | Text: Boute\n",
      "19: Title: We Want to be Old | Genre: [130] | Artist: Bird Names | Text: We Want to be Old — Europe\n",
      "20: Title: Toggle | Genre: [94] | Artist: Black Elk | Text: Toggle — Freak-Folk\n",
      "21: Title: Vampires | Genre: [117] | Artist: Blah Blah Blah | Text: Vampires — Polka\n",
      "22: Title: The Ambient Honky | Genre: [10] | Artist: Brian Joseph Davis | Text: The Ambient Honky — Pop\n",
      "23: Title: Machines and Muscles | Genre: [88] | Artist: CAVE | Text: Machines and Muscles — New Wave\n",
      "24: Title: I Can See You | Genre: [58] | Artist: Charles Manson | Text: I Can See You — Psych-Rock\n",
      "25: Title: The Black Pirate | Genre: [58] | Artist: Charles Manson | Text: The Black Pirate — Psych-Rock\n",
      "26: Title: If You Have No One | Genre: [58] | Artist: Charles Manson | Text: If You Have No One — Psych-Rock\n",
      "27: Title: Caliente Queen | Genre: [123] | Artist: Clockcleaner | Text: Caliente Queen\n",
      "28: Title: Disappearing | Genre: [58] | Artist: Dora Bleu | Text: Disappearing — Psych-Rock\n",
      "29: Title: Immaterial, side A | Genre: [50] | Artist: EKG | Text: Immaterial, side A\n",
      "30: Title: Arabesque | Genre: [58] | Artist: Ed Askew | Text: Arabesque — Psych-Rock\n",
      "31: Title: Blue Eyed Baby | Genre: [58] | Artist: Ed Askew | Text: Blue Eyed Baby — Psych-Rock\n",
      "32: Title: Climbing To The Top | Genre: [58] | Artist: Ed Askew | Text: Climbing To The Top — Psych-Rock\n",
      "33: Title: Heat | Genre: [129] | Artist: Explode Into Colors | Text: Heat\n",
      "34: Title: Sharpen The Knife | Genre: [129] | Artist: Explode Into Colors | Text: Sharpen The Knife\n",
      "35: Title: The Tension | Genre: [70] | Artist: Fanatic | Text: The Tension — Industrial\n",
      "36: Title: Cataclysm | Genre: [130] | Artist: Flying Luttenbachers | Text: Cataclysm — Europe\n",
      "37: Title: Planet Say (featuring Faust) | Genre: [70] | Artist: Food For Animals | Text: Planet Say (featuring Faust) — Industrial\n",
      "38: Title: Elephants | Genre: [70] | Artist: Food For Animals | Text: Elephants — Industrial\n",
      "39: Title: Mano De Dios | Genre: [90] | Artist: Fósforo | Text: Mano De Dios — Sludge\n",
      "40: Title: Tio Cocodrilo | Genre: [90] | Artist: Fósforo | Text: Tio Cocodrilo — Sludge\n",
      "41: Title: Esto Es Califas | Genre: [90] | Artist: Fósforo | Text: Esto Es Califas — Sludge\n",
      "42: Title: Cochabamba | Genre: [90] | Artist: Fósforo | Text: Cochabamba — Sludge\n",
      "43: Title: Desconocido | Genre: [90] | Artist: Fósforo | Text: Desconocido — Sludge\n",
      "44: Title: Cumbia De Obama | Genre: [90] | Artist: Fósforo | Text: Cumbia De Obama — Sludge\n",
      "45: Title: Circle Moon | Genre: [58] | Artist: Fursaxa | Text: Circle Moon — Psych-Rock\n",
      "46: Title: Kokopelli | Genre: [58] | Artist: Fursaxa | Text: Kokopelli — Psych-Rock\n",
      "47: Title: Saxalainen | Genre: [58] | Artist: Fursaxa | Text: Saxalainen — Psych-Rock\n",
      "48: Title: Song Of The Spindle Berry | Genre: [58] | Artist: Fursaxa | Text: Song Of The Spindle Berry — Psych-Rock\n",
      "49: Title: Relaxing | Genre: [130] | Artist: Glove Compartment | Text: Relaxing — Europe\n",
      "50: Title: Motion Passings | Genre: [58] | Artist: Hall Of Fame | Text: Motion Passings — Psych-Rock\n",
      "51: Title: Sir | Genre: [116] | Artist: Hecuba | Text: Sir\n",
      "52: Title: Tom & Jerry | Genre: [116] | Artist: Hecuba | Text: Tom & Jerry\n",
      "53: Title: Death March | Genre: [130, 92, 122, 77] | Artist: Here Comes A Big Black Cloud!! | Text: Death March — Europe\n",
      "54: Title: Welsinsni Melodyi | Genre: [80] | Artist: Hutzl Ukranian Ensemble | Text: Welsinsni Melodyi\n",
      "55: Title: Softly Tomorrow | Genre: [60] | Artist: Ilyas Ahmed | Text: Softly Tomorrow\n",
      "56: Title: Phantom Sky | Genre: [60] | Artist: Ilyas Ahmed | Text: Phantom Sky\n",
      "57: Title: 02 | Genre: [106] | Artist: Infinite Body | Text: 02\n",
      "58: Title: Or So I've Been Told | Genre: [130] | Artist: Jad Fair and Jason Willett | Text: Or So I've Been Told — Europe — Tags: baltimore\n",
      "59: Title: No Good Deed Goes Unpunished | Genre: [106] | Artist: Kevin Shields | Text: No Good Deed Goes Unpunished\n",
      "60: Title: Nothing's Ever Ending | Genre: [106] | Artist: Kevin Shields | Text: Nothing's Ever Ending\n",
      "61: Title: Apparently | Genre: [106] | Artist: Kevin Shields | Text: Apparently\n",
      "62: Title: 13 Monsters | Genre: [107] | Artist: Lightning Bolt | Text: 13 Monsters — Ambient\n",
      "63: Title: Dracula Mountain | Genre: [107] | Artist: Lightning Bolt | Text: Dracula Mountain — Ambient\n",
      "64: Title: Helicopter de Cristal | Genre: [9] | Artist: Lucky Dragons | Text: Helicopter de Cristal — Country\n",
      "65: Title: Un Lagrima en la Discoteca | Genre: [9] | Artist: Lucky Dragons | Text: Un Lagrima en la Discoteca — Country\n",
      "66: Title: Onda Tocadisco | Genre: [9] | Artist: Lucky Dragons | Text: Onda Tocadisco — Country\n",
      "67: Title: Painful Corazon | Genre: [9] | Artist: Lucky Dragons | Text: Painful Corazon — Country\n",
      "68: Title: Nam Nhi-tu | Genre: [80] | Artist: M. Nguyen Van Minh-Con | Text: Nam Nhi-tu\n",
      "69: Title: Feasting on Energy | Genre: [10] | Artist: Magic Lantern | Text: Feasting on Energy — Pop\n",
      "70: Title: Tell The Police The Truth | Genre: [130] | Artist: Mahjongg | Text: Tell The Police The Truth — Europe\n",
      "71: Title: Rare Vodka from the Fourteenth Century | Genre: [130] | Artist: Mary Halvorson and Weasel Walter | Text: Rare Vodka from the Fourteenth Century — Europe\n",
      "72: Title: Wooly Mammoth's Absence | Genre: [58] | Artist: Mount Eerie | Text: Wooly Mammoth's Absence — Psych-Rock\n",
      "73: Title: With My Hands Out | Genre: [58] | Artist: Mount Eerie | Text: With My Hands Out — Psych-Rock\n",
      "74: Title: 2 Blonde Braids | Genre: [58] | Artist: Mount Eerie | Text: 2 Blonde Braids — Psych-Rock\n",
      "75: Title: My Burning | Genre: [58] | Artist: Mount Eerie | Text: My Burning — Psych-Rock\n",
      "76: Title: \"Cleanse Bath\" 10\" Metal Laquer | Genre: [106] | Artist: Nautical Almanac | Text: \"Cleanse Bath\" 10\" Metal Laquer — Tags: baltimore\n",
      "77: Title: Rolling In The Green | Genre: [106] | Artist: Nautical Almanac | Text: Rolling In The Green\n",
      "78: Title: Cocksuckerbastardmotherfucker | Genre: [123] | Artist: Necropolis | Text: Cocksuckerbastardmotherfucker\n",
      "79: Title: Richard Nixon Died Today | Genre: [9] | Artist: Negativland | Text: Richard Nixon Died Today — Country\n",
      "80: Title: No Business | Genre: [9] | Artist: Negativland | Text: No Business — Country\n",
      "81: Title: Downloading | Genre: [9] | Artist: Negativland | Text: Downloading — Country\n",
      "82: Title: Guns of Thunder | Genre: [130] | Artist: Pierced Arrows | Text: Guns of Thunder — Europe\n",
      "83: Title: I Feel Evils | Genre: [130] | Artist: Plastic Crimewave Sound | Text: I Feel Evils — Europe\n",
      "84: Title: Time Fist | Genre: [44] | Artist: Pocahaunted | Text: Time Fist\n",
      "85: Title: Reindeer Dance | Genre: [51] | Artist: Rainbro | Text: Reindeer Dance\n",
      "86: Title: Zombie | Genre: [106] | Artist: Ric Royer &amp; G. Lucas Crane | Text: Zombie\n",
      "87: Title: Song of The Stations | Genre: [121] | Artist: Samara Lubelski | Text: Song of The Stations\n",
      "88: Title: Hrz | Genre: [116] | Artist: So Cow | Text: Hrz\n",
      "89: Title: Outskirts | Genre: [116] | Artist: So Cow | Text: Outskirts\n",
      "90: Title: Inis Meain | Genre: [116] | Artist: So Cow | Text: Inis Meain\n",
      "91: Title: Only Fools and Horses Theme | Genre: [116] | Artist: So Cow | Text: Only Fools and Horses Theme\n",
      "92: Title: So High | Genre: [116] | Artist: Softboiled Eggies | Text: So High\n",
      "93: Title: She Fell Through the Trees | Genre: [116] | Artist: Softboiled Eggies | Text: She Fell Through the Trees\n",
      "94: Title: Track 07 | Genre: [56] | Artist: Solemn Man | Text: Track 07\n",
      "95: Title: Bashraf Salama | Genre: [80] | Artist: The Sounds of Taraab | Text: Bashraf Salama\n",
      "96: Title: Daka Kozi Manowe | Genre: [80] | Artist: The Sounds of Taraab | Text: Daka Kozi Manowe\n",
      "97: Title: Nie Zama Nie Sema | Genre: [80] | Artist: The Sounds of Taraab | Text: Nie Zama Nie Sema\n",
      "98: Title: Mapenzi Matamu | Genre: [80] | Artist: The Sounds of Taraab | Text: Mapenzi Matamu\n",
      "99: Title: Mahaba Wa Taka Nini | Genre: [80] | Artist: The Sounds of Taraab | Text: Mahaba Wa Taka Nini\n"
     ]
    }
   ],
   "source": [
    "for i, ex in enumerate(ds):\n",
    "    print(\n",
    "        f\"{i:2d}: \"\n",
    "        f\"Title: {ex['title']} | \"\n",
    "        f\"Genre: {ex['genres']} | \"\n",
    "        f\"Artist: {ex['artist']} | \"\n",
    "        f\"Text: {ex['text']}\"\n",
    "    )\n"
   ]
  }
 ],
 "metadata": {
  "kernelspec": {
   "display_name": "Python 3",
   "language": "python",
   "name": "python3"
  },
  "language_info": {
   "codemirror_mode": {
    "name": "ipython",
    "version": 3
   },
   "file_extension": ".py",
   "mimetype": "text/x-python",
   "name": "python",
   "nbconvert_exporter": "python",
   "pygments_lexer": "ipython3",
   "version": "3.9.6"
  }
 },
 "nbformat": 4,
 "nbformat_minor": 2
}
